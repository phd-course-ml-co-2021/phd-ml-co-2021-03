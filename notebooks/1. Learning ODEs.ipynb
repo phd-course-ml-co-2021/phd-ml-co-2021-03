{
 "cells": [
  {
   "cell_type": "code",
   "execution_count": 2,
   "metadata": {
    "slideshow": {
     "slide_type": "skip"
    }
   },
   "outputs": [
    {
     "name": "stdout",
     "output_type": "stream",
     "text": [
      "The autoreload extension is already loaded. To reload it, use:\n",
      "  %reload_ext autoreload\n"
     ]
    }
   ],
   "source": [
    "# ============================================================\n",
    "# Notebook setup: run this before everything\n",
    "# ============================================================\n",
    "\n",
    "%load_ext autoreload\n",
    "%autoreload 2\n",
    "\n",
    "# Control figure size\n",
    "interactive_figures = False\n",
    "if interactive_figures:\n",
    "    # Normal behavior\n",
    "    %matplotlib widget\n",
    "    figsize=(9, 3)\n",
    "else:\n",
    "    # PDF export behavior\n",
    "    figsize=(14, 5)\n",
    "\n",
    "#from matplotlib import pyplot as plt\n",
    "from util import util\n",
    "#from scipy.integrate import odeint\n",
    "import numpy as np\n",
    "#import pandas as pd\n",
    "#import tensorflow as tf\n",
    "#from sklearn.metrics import r2_score\n",
    "#from skopt.space import Space\n",
    "#from eml.net.reader import keras_reader\n",
    "\n",
    "# Specify data folder\n",
    "#data_folder = '/app/data'"
   ]
  },
  {
   "cell_type": "markdown",
   "metadata": {
    "slideshow": {
     "slide_type": "slide"
    }
   },
   "source": [
    "# Ordinary Differential Equations"
   ]
  },
  {
   "cell_type": "markdown",
   "metadata": {
    "slideshow": {
     "slide_type": "subslide"
    }
   },
   "source": [
    "## Ordinary Differential Equations\n",
    "\n",
    "**An _Ordinary Differential Equation_ is any equation in the form:**\n",
    "\n",
    "$$\n",
    "\\dot{y} = f(y, t)\n",
    "$$\n",
    "\n",
    "* Where $y$ is the _state variable_\n",
    "* ...And $f$ is a function, providing the gradient of the state variable\n",
    "\n",
    "**The peculiarities:**\n",
    "\n",
    "* $y$ is actually a _function_ or the $t$ variable\n",
    "* The $t$ variable typically (but not always) represents _time_\n",
    "* ...Hence $y(t)$ is the state at time $t$\n",
    "* The gradient $f$ depends on both the current state and current time\n",
    "\n",
    "**Ordinary =** does not feature partial derivatives"
   ]
  },
  {
   "cell_type": "markdown",
   "metadata": {
    "slideshow": {
     "slide_type": "subslide"
    }
   },
   "source": [
    "## Initial Value Problem\n",
    "\n",
    "**An _Initial Value Problem_ consists of an ODE and a initial condition**\n",
    "\n",
    "$$\\begin{align}\n",
    "& \\dot{y} = f(y, t) \\\\\n",
    "& y(0) = y_0\n",
    "\\end{align}$$\n",
    "\n",
    "* This can be interpreted as _running a simulation_\n",
    "* Given that the initial state $y(0)$ is $y_0$, how will the state unfold?\n",
    "\n",
    "**Initial values problem can be solved (a.k.a. integrated):**\n",
    "\n",
    "Exactly, using _symbolic approaches_, e.g.\n",
    "\n",
    "$$\n",
    "\\dot{y} = a, y(0) = b \\quad \\Rightarrow \\quad y(t) = ay + b\n",
    "$$\n",
    "\n",
    "* This is the method considered in typical calculus courses\n",
    "\n",
    "...Or approximately, via _numerical approach_"
   ]
  },
  {
   "cell_type": "markdown",
   "metadata": {
    "slideshow": {
     "slide_type": "subslide"
    }
   },
   "source": [
    "## An Example\n",
    "\n",
    "**As an example, let's consider a simple RC circuit**\n",
    "\n",
    "<center class=\"small\">\n",
    "<img src=\"assets/RC.png\" width=400px/>\n",
    "</center>\n",
    "\n",
    "It's dynamic behavior is described by the ODE:\n",
    "\n",
    "$$\n",
    "\\dot{V} = \\frac{1}{\\tau} (V_s - V)\n",
    "$$\n",
    "\n",
    "* Where $\\tau = RC$"
   ]
  },
  {
   "cell_type": "markdown",
   "metadata": {
    "slideshow": {
     "slide_type": "subslide"
    }
   },
   "source": [
    "## Euler Method\n",
    "\n",
    "**The simplest numerical approach for ODEs is called _Euler Method_**\n",
    "\n",
    "This is obtained by:\n",
    "\n",
    "* Considering a fixed sequence of evaluation points $\\{t_k\\}_{k=0}^n$\n",
    "* Using a _linear approximation_ for $y(t)$ within each interval $[t_k, t_{k+1}]$\n",
    "* Approximating the slope with the gradient at time $t_k$\n",
    "\n",
    "**The pseudo code of the method consists of _a single loop_**\n",
    "\n",
    "* $\\text{for $k = 1..n$:}$\n",
    "  - $y_k = y_{k-1} + (t_k - t_{k-1}) f(y_{k-1}, t_{k-1})$\n",
    "  \n",
    "The output is a sequence $\\{y_k\\}_{i=0}^n$\n",
    "\n",
    "* $y_k$ is the state at time $t_k$\n",
    "* $y_0$ is also an input for the algorithm"
   ]
  },
  {
   "cell_type": "markdown",
   "metadata": {
    "slideshow": {
     "slide_type": "subslide"
    }
   },
   "source": [
    "## Euler Method for the RC Circuit\n",
    "\n",
    "**A typical Initial Value Problem solver API requires to define**\n",
    "\n",
    "The function characterizing the equation, i.e. $f(y, t)$:"
   ]
  },
  {
   "cell_type": "code",
   "execution_count": 3,
   "metadata": {},
   "outputs": [],
   "source": [
    "tau, Vs = 8, 12\n",
    "f = lambda y, t: 1./tau * (Vs - y)"
   ]
  },
  {
   "cell_type": "markdown",
   "metadata": {},
   "source": [
    "The initial state $y_0$ and the evaluation points $\\{t_i\\}_{i=0}^n$"
   ]
  },
  {
   "cell_type": "code",
   "execution_count": 4,
   "metadata": {},
   "outputs": [],
   "source": [
    "y0 = (0,) # We start from an empty capacitor\n",
    "t = np.linspace(0, 40, 12)"
   ]
  },
  {
   "cell_type": "markdown",
   "metadata": {},
   "source": [
    "Then we can call the solver itself (the code is in the `util` module)"
   ]
  },
  {
   "cell_type": "code",
   "execution_count": 5,
   "metadata": {},
   "outputs": [],
   "source": [
    "y, dy = util.euler_method(f, y0, t, return_gradients=True)"
   ]
  },
  {
   "cell_type": "markdown",
   "metadata": {
    "slideshow": {
     "slide_type": "subslide"
    }
   },
   "source": [
    "## Euler Method for the RC Circuit\n",
    "\n",
    "**Visually, the method works as follows:**"
   ]
  },
  {
   "cell_type": "code",
   "execution_count": 6,
   "metadata": {},
   "outputs": [
    {
     "data": {
      "image/png": "[encoded data removed]",
      "text/plain": [
       "<Figure size 1008x360 with 1 Axes>"
      ]
     },
     "metadata": {
      "needs_background": "light"
     },
     "output_type": "display_data"
    }
   ],
   "source": [
    "util.plot_euler_method(y, t, dy=dy, xlabel='time', ylabel='V', figsize=figsize)"
   ]
  },
  {
   "cell_type": "markdown",
   "metadata": {},
   "source": [
    "* The dots represent evaluated states\n",
    "* The slope of the lines corresponds to the gradient at each step "
   ]
  },
  {
   "cell_type": "markdown",
   "metadata": {
    "slideshow": {
     "slide_type": "subslide"
    }
   },
   "source": [
    "## ODE Integration Methods\n",
    "\n",
    "**Euler method is the simplest ODE integration approach**\n",
    "\n",
    "...But also one of the worst in terms of accuracy\n",
    "\n",
    "* This is due to errors in the local approximation\n",
    "* ...And forces to use very small steps to obtain high-quality results\n",
    "\n",
    "**There are many alternative integration methods**\n",
    "\n",
    "Some examples include:\n",
    "\n",
    "* [Backward Euler method](https://en.wikipedia.org/wiki/Backward_Euler_method)\n",
    "  - Like Euler method, but we use the gradient at the _next_ state\n",
    "  - In practice it requires to solve a (typically non-linear) equation\n",
    "* [Runge-Kutta methods](https://en.wikipedia.org/wiki/Runge%E2%80%93Kutta_methods)\n",
    "  - It's a family of method (Euler method is the simplest version)\n",
    "  - They combine multiple gradients to obtain a local slope"
   ]
  },
  {
   "cell_type": "markdown",
   "metadata": {
    "slideshow": {
     "slide_type": "slide"
    }
   },
   "source": [
    "# \"Learning\" ODEs"
   ]
  },
  {
   "cell_type": "markdown",
   "metadata": {
    "slideshow": {
     "slide_type": "subslide"
    }
   },
   "source": [
    "## \"Learning\" ODEs\n",
    "\n",
    "**The parameters of an ODE can be _estimated_ from data**\n",
    "\n",
    "Formally, training amounts to solving:\n",
    "\n",
    "$$\n",
    "\\text{argmin}_\\omega \\left\\{ L(y(\\hat{t}), \\hat{y}) \\mid\n",
    "\\dot{y} = f(y, t, \\omega), y(0) = \\hat{y}_0 \\right\\}\n",
    "$$\n",
    "\n",
    "Where:\n",
    "\n",
    "* $\\{\\hat{t}_k \\}_{k=0}^n$ is a sequence of points for which measurements are available\n",
    "* $\\{\\hat{y}_k \\}_{k=0}^n$ are the corresponding state measurements\n",
    "* $f$ is a _parameterized_ gradient function\n",
    "* $L$ is a loss function (e.g. the classical MSE)\n",
    "\n",
    "Intuitively, we require the integrated ODE to be close to the real one\n",
    "\n",
    "* The goal is to choose the parameters (e.g. $\\tau, V_s$) so as to achieve this"
   ]
  },
  {
   "cell_type": "markdown",
   "metadata": {
    "slideshow": {
     "slide_type": "subslide"
    }
   },
   "source": [
    "## \"Learning\" ODEs\n",
    "\n",
    "**A viable approach is to \"discretize, then optimize\"**\n",
    "\n",
    "...Which can be be done by relying on an _automatic differentiation engine_\n",
    "\n",
    "* First we solve the initial value problem using a numerical method\n",
    "  - ...Making sure we evaluate every point in $\\{\\hat{t}_k\\}$\n",
    "* Then, we compute the loss $L$\n",
    "* ...And view the whole process as _a single compute graph_\n",
    "\n",
    "Then optimization over $\\omega$ can be performed (e.g.) via gradient descent\n",
    "\n",
    "**This is possible since every integration step is _differentiable_**\n",
    "\n",
    "This is true for Euler method, but also for other (better) integration methods\n",
    "\n",
    "* In particular, it's doable for the whole Runge-Kutta family\n",
    "* ...But a bit more complicated in implicit methods (e.g. backward Euler)"
   ]
  },
  {
   "cell_type": "markdown",
   "metadata": {
    "slideshow": {
     "slide_type": "subslide"
    }
   },
   "source": [
    "## Building Our Ground Truth\n",
    "\n",
    "**We'll see an example using our simple RC circuit**\n",
    "\n",
    "Let's start by building a high-quality ground truth sequence\n",
    "\n",
    "* We will use the `odeint` solver from scikit learn for this\n",
    "* The code can be found in the `simulate_RC` function"
   ]
  },
  {
   "cell_type": "code",
   "execution_count": 8,
   "metadata": {},
   "outputs": [
    {
     "data": {
      "text/html": [
       "<div>\n",
       "<style scoped>\n",
       "    .dataframe tbody tr th:only-of-type {\n",
       "        vertical-align: middle;\n",
       "    }\n",
       "\n",
       "    .dataframe tbody tr th {\n",
       "        vertical-align: top;\n",
       "    }\n",
       "\n",
       "    .dataframe thead th {\n",
       "        text-align: right;\n",
       "    }\n",
       "</style>\n",
       "<table border=\"1\" class=\"dataframe\">\n",
       "  <thead>\n",
       "    <tr style=\"text-align: right;\">\n",
       "      <th></th>\n",
       "      <th>V</th>\n",
       "    </tr>\n",
       "    <tr>\n",
       "      <th>time</th>\n",
       "      <th></th>\n",
       "    </tr>\n",
       "  </thead>\n",
       "  <tbody>\n",
       "    <tr>\n",
       "      <th>0.0</th>\n",
       "      <td>0.000000</td>\n",
       "    </tr>\n",
       "    <tr>\n",
       "      <th>1.0</th>\n",
       "      <td>1.410037</td>\n",
       "    </tr>\n",
       "    <tr>\n",
       "      <th>2.0</th>\n",
       "      <td>2.654391</td>\n",
       "    </tr>\n",
       "    <tr>\n",
       "      <th>3.0</th>\n",
       "      <td>3.752529</td>\n",
       "    </tr>\n",
       "    <tr>\n",
       "      <th>4.0</th>\n",
       "      <td>4.721632</td>\n",
       "    </tr>\n",
       "  </tbody>\n",
       "</table>\n",
       "</div>"
      ],
      "text/plain": [
       "             V\n",
       "time          \n",
       "0.0   0.000000\n",
       "1.0   1.410037\n",
       "2.0   2.654391\n",
       "3.0   3.752529\n",
       "4.0   4.721632"
      ]
     },
     "execution_count": 8,
     "metadata": {},
     "output_type": "execute_result"
    }
   ],
   "source": [
    "V0, tau, Vs, tmax = 0, tau, Vs, 60\n",
    "data = util.simulate_RC(V0, tau, Vs, tmax, steps_per_unit=1)\n",
    "data.head()"
   ]
  },
  {
   "cell_type": "markdown",
   "metadata": {},
   "source": [
    "* `steps_per_unit` defines how many evaluations to perform per unit of time"
   ]
  },
  {
   "cell_type": "markdown",
   "metadata": {
    "slideshow": {
     "slide_type": "subslide"
    }
   },
   "source": [
    "## Building Our Ground Truth\n",
    "\n",
    "**Let' check (visually) that the result is smooth enough**"
   ]
  },
  {
   "cell_type": "code",
   "execution_count": 9,
   "metadata": {},
   "outputs": [
    {
     "data": {
      "image/png": "[encoded data removed]",
      "text/plain": [
       "<Figure size 1008x360 with 1 Axes>"
      ]
     },
     "metadata": {
      "needs_background": "light"
     },
     "output_type": "display_data"
    }
   ],
   "source": [
    "util.plot_df_cols(data, figsize=figsize)"
   ]
  },
  {
   "cell_type": "markdown",
   "metadata": {},
   "source": [
    "* We need this step since we treat this as the ground truth\n",
    "* ...Even if it is a numerical approximation"
   ]
  },
  {
   "cell_type": "markdown",
   "metadata": {
    "slideshow": {
     "slide_type": "subslide"
    }
   },
   "source": [
    "## Outline of the Approach\n",
    "\n",
    "**We will go for a simple, but relatively general approach**\n",
    "\n",
    "* We will view the (parameterized) gradient function $f(y, t, \\omega)$ as a _layer type_\n",
    "* ...And we will use a `keras.Model` to encode Euler method, i.e.\n",
    "$$\n",
    "y(\\hat{t}_{k}) = y(\\hat{t}_{k-1}) + (\\hat{t}_{k} - \\hat{t}_{k-1}) f(y(\\hat{t}_{k-1}), \\hat{t}_{k-1}, \\omega)\n",
    "$$\n",
    "* Each step of the method can be viewed as _layer instance_\n",
    "* ...And all instances share the same weights\n",
    "  \n",
    "**In terms of input/output:**\n",
    "\n",
    "* The initial state corresponds to the _input_\n",
    "* ...And a _secondary input_ is given by the sequence $\\{\\hat{t}_{k}\\}_{k=0}^n$\n",
    "* The _output_ is the state for each evaluation step"
   ]
  },
  {
   "cell_type": "markdown",
   "metadata": {
    "slideshow": {
     "slide_type": "subslide"
    }
   },
   "source": [
    "## Outline of the Approach\n",
    "\n",
    "**Overall, our \"architecture\" looks like this:**\n",
    "\n",
    "<center>\n",
    "<img src=\"assets/ode.png\" width=500px />\n",
    "</center>\n",
    "\n",
    "* The input includes the initial state $y_0$ and the evaluation points $\\{\\hat{t}_k\\}_{k=0}^n$\n",
    "* The output consists of the sequence of state evaluations $\\{y_{k}\\}_{k=0}^n$\n",
    "\n",
    "Overall, the signature is _analogous to that of an ODE solver_"
   ]
  },
  {
   "cell_type": "markdown",
   "metadata": {
    "slideshow": {
     "slide_type": "subslide"
    }
   },
   "source": [
    "## Outline of the Approach\n",
    "\n",
    "**Overall, our \"architecture\" looks like this:**\n",
    "\n",
    "<center>\n",
    "<img src=\"assets/ode.png\" width=500px />\n",
    "</center>\n",
    "\n",
    "* Each \"example\" corresponds to a distinct integration of the same system\n",
    "* ...And the architecture is very similar to a recurrent NN\n",
    "* In particular, the \"depth\" grows with the number of evaluation points"
   ]
  },
  {
   "cell_type": "markdown",
   "metadata": {
    "slideshow": {
     "slide_type": "subslide"
    }
   },
   "source": [
    "## Details Matter\n",
    "\n",
    "**In our RC circuit case, we have:**\n",
    "\n",
    "$$\\begin{align}\n",
    "\\text{argmin}_\\omega \\ & L(y(\\hat{t}), \\hat{y}) \\\\\n",
    "\\text{subject to } & \\dot{y} = \\frac{1}{\\tau} (V_s - y) \\\\\n",
    "& y(0) = y_0\n",
    "\\end{align}$$\n",
    "\n",
    "* Where the parameters to be learned are $\\tau$ and $V_s$\n",
    "\n",
    "**There are a few details we need to account for**\n",
    "\n",
    "* For both parameters, _negative values_ make no sense\n",
    "* Moreover, since we plan to use gradient descent for training\n",
    "* ...We need to make sure that our initial guesses are _reasonable_"
   ]
  },
  {
   "cell_type": "markdown",
   "metadata": {
    "slideshow": {
     "slide_type": "subslide"
    }
   },
   "source": [
    "## Details Matter\n",
    "\n",
    "**We can meet both conditions by adopting the reformulation:**\n",
    "\n",
    "$$\\begin{align}\n",
    "& \\tau = \\sigma_\\tau e^{\\omega_{\\tau}} \\\\\n",
    "& V_s = \\sigma_{V_s} e^{\\omega_{V_s}} \\\\\n",
    "\\end{align}$$\n",
    "\n",
    "Where the parameters to be learned are now $\\omega_{\\tau}$ and $\\omega_{V_s}$\n",
    "\n",
    "* Using an exponential ensures we get non-negative values\n",
    "* The scaling factors $\\sigma_{\\tau}$ and $\\sigma_{V_s}$ are user-provided\n",
    "  - They lead to reasonable guesses for typical NN weight initiliazers\n",
    "\n",
    "There are just a few mild downsides:\n",
    "\n",
    "* The exponential may lead to numerical issues in edge cases\n",
    "* We need to have a rough idea of the scale of $\\tau$ and $V_s$"
   ]
  },
  {
   "cell_type": "markdown",
   "metadata": {
    "slideshow": {
     "slide_type": "subslide"
    }
   },
   "source": [
    "## RC Circuit Layer\n",
    "\n",
    "**The layer for the RC circuit gradient is in the `RCNablaLayer` class**\n",
    "\n",
    "```python\n",
    "class RCNablaLayer(keras.layers.Layer):\n",
    "    def __init__(self, tau_ref=0.1, vs_ref=0.1):\n",
    "        self.tau_ref = tau_ref # store scales\n",
    "        self.vs_ref = vs_ref\n",
    "        p_init = tf.random_normal_initializer() # weight initializer\n",
    "        self.logtau = tf.Variable( # init the \\omega_\\tau param\n",
    "            initial_value=p_init(shape=(1, ), dtype=\"float32\"),\n",
    "            trainable=True)\n",
    "        self.logvs = tf.Variable( # init the \\omega_{V_s} param\n",
    "            initial_value=p_init(shape=(1, ), dtype=\"float32\"),\n",
    "            trainable=True)\n",
    "    \n",
    "    ...\n",
    "```\n",
    "\n",
    "* In the `__init__` method we take care of weight initialization"
   ]
  },
  {
   "cell_type": "markdown",
   "metadata": {
    "slideshow": {
     "slide_type": "subslide"
    }
   },
   "source": [
    "## RC Circuit Layer\n",
    "\n",
    "**The layer for the RC circuit gradient is in the `RCNablaLayer` class**\n",
    "\n",
    "```python\n",
    "class RCNablaLayer(keras.layers.Layer):\n",
    "    ...\n",
    "    \n",
    "    def get_tau(self):\n",
    "        return tf.math.exp(self.logtau) * self.tau_ref\n",
    "\n",
    "    def get_vs(self):\n",
    "        return tf.math.exp(self.logvs) * self.vs_ref\n",
    "\n",
    "    def call(self, inputs):\n",
    "        y, t = inputs # unpack the inputs\n",
    "        return 1. / self.get_tau() * (self.get_vs() - y)\n",
    "```\n",
    "\n",
    "* We use dedicated method to obtain $\\tau$ and $V_s$\n",
    "* In the `call` method we compute the (ODE) gradient"
   ]
  },
  {
   "cell_type": "markdown",
   "metadata": {
    "slideshow": {
     "slide_type": "subslide"
    }
   },
   "source": [
    "## Euler Method Model\n",
    "\n",
    "**The model for the Euler method is in the `ODEEulerModel` class**\n",
    "\n",
    "```python\n",
    "class ODEEulerModel(keras.Model):\n",
    "    def __init__(self, f, **params): ...\n",
    "        \n",
    "    def call(self, inputs, training=False):\n",
    "        y, T = inputs # unpack\n",
    "        res = [y] # initial state\n",
    "        for i in range(T.shape[1]-1):\n",
    "            t, nt = T[:, i:i+1], T[:, i+1:i+2] # t_k and t_{k+1}\n",
    "            dy = self.f([y, t], training=training) # gradient\n",
    "            y = y + (nt - t) * dy # next state\n",
    "            res.append(y) # store result\n",
    "        res = tf.stack(res, axis=1) # concatenate\n",
    "        return res\n",
    "```\n",
    "\n",
    "* The `__call__` method implements the method using tensor operators"
   ]
  },
  {
   "cell_type": "markdown",
   "metadata": {
    "slideshow": {
     "slide_type": "subslide"
    }
   },
   "source": [
    "## Euler Method Model\n",
    "\n",
    "**The model for the Euler method is in the `ODEEulerModel` class**\n",
    "\n",
    "```python\n",
    "class ODEEulerModel(keras.Model):\n",
    "    ...\n",
    "        \n",
    "    def train_step(self, data):\n",
    "        (y0, T), yt = data # unpack\n",
    "        with tf.GradientTape() as tape:\n",
    "            y = self.call([y0, T], training=True) # ODE integration\n",
    "            # Loss computation\n",
    "            mask = ~tf.math.is_nan(yt)\n",
    "            loss = self.compiled_loss(yt[mask], y[mask])\n",
    "        ...\n",
    "```\n",
    "\n",
    "* The loss is computed as usual on all available measurements\n",
    "* We can exclude points by setting the corresponding target to NaN"
   ]
  },
  {
   "cell_type": "markdown",
   "metadata": {
    "slideshow": {
     "slide_type": "subslide"
    }
   },
   "source": [
    "## Training Set\n",
    "\n",
    "**We have a single sequence of measurements**\n",
    "\n",
    "...Therefore, just a training set (no validation, no test)\n",
    "\n",
    "* Our first input is the initial state:"
   ]
  },
  {
   "cell_type": "code",
   "execution_count": 10,
   "metadata": {},
   "outputs": [
    {
     "data": {
      "text/plain": [
       "array([[0.]])"
      ]
     },
     "metadata": {},
     "output_type": "display_data"
    }
   ],
   "source": [
    "tr_y0 = np.array(data.iloc[0]).reshape(1, -1); display(tr_y0)"
   ]
  },
  {
   "cell_type": "markdown",
   "metadata": {},
   "source": [
    "* The second is the sequence of evaluation points (time steps)"
   ]
  },
  {
   "cell_type": "code",
   "execution_count": 11,
   "metadata": {},
   "outputs": [
    {
     "data": {
      "text/plain": [
       "array([[ 0.,  1.,  2.,  3.,  4.,  5.,  6.,  7.,  8.,  9., 10., 11., 12.,\n",
       "        13., 14., 15., 16., 17., 18., 19., 20., 21., 22., 23., 24., 25.,\n",
       "        26., 27., 28., 29.]])"
      ]
     },
     "metadata": {},
     "output_type": "display_data"
    }
   ],
   "source": [
    "tr_T = np.array(data.index).reshape(1, -1); display(tr_T[:, :30])"
   ]
  },
  {
   "cell_type": "markdown",
   "metadata": {
    "slideshow": {
     "slide_type": "subslide"
    }
   },
   "source": [
    "## Training Set\n",
    "\n",
    "**We have a single sequence of measurements**\n",
    "\n",
    "...Therefore, just a training set (no validation, no test)\n",
    "\n",
    "* Then we need to prepare our ground truth"
   ]
  },
  {
   "cell_type": "code",
   "execution_count": 12,
   "metadata": {},
   "outputs": [
    {
     "data": {
      "text/plain": [
       "array([[        nan,  1.41003718,  2.6543906 ,  3.75252866,  4.7216321 ,\n",
       "         5.57686288,  6.33160139,  6.99765581,  7.58544676,  8.10417046,\n",
       "         8.56194251,  8.96592493,  9.32243816,  9.63705999,  9.91471279,\n",
       "        10.15974045, 10.37597661, 10.56680439, 10.73520931, 10.88382613,\n",
       "        11.01498002, 11.13072291, 11.23286566, 11.32300631, 11.40255515,\n",
       "        11.47275676, 11.53470947, 11.58938254, 11.63763136, 11.6802108 ]])"
      ]
     },
     "metadata": {},
     "output_type": "display_data"
    }
   ],
   "source": [
    "tr_y = np.array(data['V']).reshape(1, -1)\n",
    "tr_y[:, 0] = np.nan\n",
    "display(tr_y[:, :30])"
   ]
  },
  {
   "cell_type": "markdown",
   "metadata": {},
   "source": [
    "* This is the sequence of all measurements, with the first state \"masked\""
   ]
  },
  {
   "cell_type": "markdown",
   "metadata": {
    "slideshow": {
     "slide_type": "subslide"
    }
   },
   "source": [
    "## Training Process\n",
    "\n",
    "**We can now build and train the model**"
   ]
  },
  {
   "cell_type": "code",
   "execution_count": 14,
   "metadata": {},
   "outputs": [
    {
     "data": {
      "image/png": "[encoded data removed]",
      "text/plain": [
       "<Figure size 1008x360 with 1 Axes>"
      ]
     },
     "metadata": {
      "needs_background": "light"
     },
     "output_type": "display_data"
    },
    {
     "name": "stdout",
     "output_type": "stream",
     "text": [
      "Model loss: 0.0000 (training)\n",
      "CPU times: user 13 s, sys: 928 ms, total: 14 s\n",
      "Wall time: 10 s\n"
     ]
    }
   ],
   "source": [
    "%%time\n",
    "dRC = util.RCNablaLayer(tau_ref=10, vs_ref=10)\n",
    "euler = util.ODEEulerModel(dRC)\n",
    "history = util.train_ml_model(euler, [tr_y0, tr_T], tr_y, validation_split=0.0, epochs=1000)\n",
    "util.plot_training_history(history, figsize=figsize)"
   ]
  },
  {
   "cell_type": "markdown",
   "metadata": {
    "slideshow": {
     "slide_type": "subslide"
    }
   },
   "source": [
    "## Some Considerations\n",
    "\n",
    "**It seems to be working! But there are a few issues**\n",
    "\n",
    "First, the convergence is slow\n",
    "\n",
    "* Stopping before ~500 epochs leads to less stable results\n",
    "\n",
    "Second, we cannot use a validation set:\n",
    "\n",
    "* This is due to the fact that we have a single sequence\n",
    "\n",
    "Third, we are still _not getting_ the correct parameters:"
   ]
  },
  {
   "cell_type": "code",
   "execution_count": 15,
   "metadata": {},
   "outputs": [
    {
     "name": "stdout",
     "output_type": "stream",
     "text": [
      "tau: 8.00 (real), 8.49 (estimated)\n",
      "Vs: 12.00 (real), 12.00 (estimated)\n"
     ]
    }
   ],
   "source": [
    "print(f'tau: {tau:.2f} (real), {dRC.get_tau().numpy()[0]:.2f} (estimated)')\n",
    "print(f'Vs: {Vs:.2f} (real), {dRC.get_vs().numpy()[0]:.2f} (estimated)')"
   ]
  },
  {
   "cell_type": "markdown",
   "metadata": {},
   "source": [
    "**In the next section, we will see how to address these issues**"
   ]
  }
 ],
 "metadata": {
  "celltoolbar": "Slideshow",
  "kernelspec": {
   "display_name": "Python 3 (ipykernel)",
   "language": "python",
   "name": "python3"
  },
  "language_info": {
   "codemirror_mode": {
    "name": "ipython",
    "version": 3
   },
   "file_extension": ".py",
   "mimetype": "text/x-python",
   "name": "python",
   "nbconvert_exporter": "python",
   "pygments_lexer": "ipython3",
   "version": "3.8.10"
  },
  "rise": {
   "center": false,
   "enable_chalkboard": true,
   "transition": "fade"
  }
 },
 "nbformat": 4,
 "nbformat_minor": 4
}
