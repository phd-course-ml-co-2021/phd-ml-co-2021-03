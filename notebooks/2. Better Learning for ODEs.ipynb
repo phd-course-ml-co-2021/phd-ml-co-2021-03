{
 "cells": [
  {
   "cell_type": "code",
   "execution_count": 1,
   "metadata": {
    "slideshow": {
     "slide_type": "skip"
    }
   },
   "outputs": [],
   "source": [
    "# ============================================================\n",
    "# Notebook setup: run this before everything\n",
    "# ============================================================\n",
    "\n",
    "%load_ext autoreload\n",
    "%autoreload 2\n",
    "\n",
    "# Control figure size\n",
    "interactive_figures = False\n",
    "if interactive_figures:\n",
    "    # Normal behavior\n",
    "    %matplotlib widget\n",
    "    figsize=(9, 3)\n",
    "else:\n",
    "    # PDF export behavior\n",
    "    figsize=(14, 4)\n",
    "\n",
    "#from matplotlib import pyplot as plt\n",
    "from util import util\n",
    "#from scipy.integrate import odeint\n",
    "import numpy as np\n",
    "#import re\n",
    "#import pandas as pd\n",
    "#import tensorflow as tf\n",
    "#from sklearn.metrics import r2_score\n",
    "#from skopt.space import Space\n",
    "#from eml.net.reader import keras_reader\n",
    "\n",
    "# Specify data folder\n",
    "#data_folder = '/app/data'\n",
    "\n",
    "V0, tau, Vs, tmax = 0, 8, 12, 60\n",
    "data = util.simulate_RC(V0, tau, Vs, tmax, steps_per_unit=1)"
   ]
  },
  {
   "cell_type": "markdown",
   "metadata": {
    "slideshow": {
     "slide_type": "slide"
    }
   },
   "source": [
    "# Better Learning for ODEs"
   ]
  },
  {
   "cell_type": "markdown",
   "metadata": {
    "slideshow": {
     "slide_type": "subslide"
    }
   },
   "source": [
    "## Decomposing Sequences\n",
    "\n",
    "**We can address the first two issues using a _reformulation_**\n",
    "\n",
    "Let's consider the sequence of measurements $\\{\\hat{y}_k \\}_{k=0}^n$\n",
    "\n",
    "* We can view it as a sequence of pairs $\\{(\\hat{y}_{k-1}, \\hat{y}_{k}\\}_{k=1}^n$\n",
    "* ...Each referring to a _distinct_ ODE, i.e. $\\dot{y}_k = f(y_k, t, \\omega)$\n",
    "* ...With all ODEs sharing the _same_ parameter vector $\\omega$\n",
    "\n",
    "**With this approach, we can reformulate the training problem as:**\n",
    "\n",
    "$$\\begin{align}\n",
    "\\text{argmin}_\\omega \\ & \\sum_{k=1}^n L(y_k(\\hat{t}_k), \\hat{y}_k) \\\\\n",
    "\\text{subject to: } & \\dot{y}_k = f(y_k, t, \\omega) & \\forall k = 1..n\\\\\n",
    "& y_k(\\hat{t}_{k-1}) = \\hat{y}_{k-1} & \\forall k = 1..n\n",
    "\\end{align}$$\n",
    "\n",
    "* In practice, we assume we are dealing with _multiple_ initial value problems"
   ]
  },
  {
   "cell_type": "markdown",
   "metadata": {
    "slideshow": {
     "slide_type": "subslide"
    }
   },
   "source": [
    "## Decomposing Sequences\n",
    "\n",
    "**Let's examine again the new training problem:**\n",
    "\n",
    "$$\\begin{align}\n",
    "\\text{argmin}_\\omega \\ & \\sum_{k=1}^n L(y_k(\\hat{t}_k), \\hat{y}_k) \\\\\n",
    "\\text{subject to: } & \\dot{y}_k = f(y_k, t, \\omega) & \\forall k = 1..n\\\\\n",
    "& y_k(\\hat{t}_{k-1}) = \\hat{y}_{k-1} & \\forall k = 1..n\n",
    "\\end{align}$$\n",
    "\n",
    "There a few things to keep in mind:\n",
    "\n",
    "* The approach is viable only if we have measurements for the _full state_\n",
    "* ...And we are also assuming that the original loss is _separable_\n",
    "* Finally, the new training problem is _not exactly equivalent_ to the old one\n",
    "* ...Since by re-starting at each step we are disregarding compound errors"
   ]
  },
  {
   "cell_type": "markdown",
   "metadata": {
    "slideshow": {
     "slide_type": "subslide"
    }
   },
   "source": [
    "## Preparing the Data\n",
    "\n",
    "**Our implementation can naturally deal with the reformulation**\n",
    "\n",
    "We just need to properly prepare the data\n",
    "\n",
    "* Each ODE can be seen as a different _example_"
   ]
  },
  {
   "cell_type": "code",
   "execution_count": 2,
   "metadata": {},
   "outputs": [],
   "source": [
    "ns = len(data.index)-1"
   ]
  },
  {
   "cell_type": "markdown",
   "metadata": {},
   "source": [
    "* The sequence for each example contains _only two_ measurements\n",
    "* ...Corresponding to consecutive evaluation points"
   ]
  },
  {
   "cell_type": "code",
   "execution_count": 3,
   "metadata": {},
   "outputs": [
    {
     "name": "stdout",
     "output_type": "stream",
     "text": [
      "[[0. 1.]\n",
      " [1. 2.]\n",
      " [2. 3.]]\n"
     ]
    }
   ],
   "source": [
    "tr_T = np.vstack((data.index[:-1], data.index[1:])).T\n",
    "print(tr_T[:3])"
   ]
  },
  {
   "cell_type": "markdown",
   "metadata": {
    "slideshow": {
     "slide_type": "subslide"
    }
   },
   "source": [
    "## Preparing the Data\n",
    "\n",
    "**Our implementation can naturally deal with the reformulation**\n",
    "\n",
    "We just need to properly prepare the data\n",
    "\n",
    "* The first measurement represents the initial state"
   ]
  },
  {
   "cell_type": "code",
   "execution_count": 4,
   "metadata": {},
   "outputs": [
    {
     "name": "stdout",
     "output_type": "stream",
     "text": [
      "[[0.        ]\n",
      " [1.41003718]]\n"
     ]
    }
   ],
   "source": [
    "tr_y0 = np.array(data.iloc[:-1]).reshape(-1, 1)\n",
    "print(tr_y0[:2])"
   ]
  },
  {
   "cell_type": "markdown",
   "metadata": {},
   "source": [
    "* The second to the final state, which we need for defining a target tensor"
   ]
  },
  {
   "cell_type": "code",
   "execution_count": 5,
   "metadata": {},
   "outputs": [
    {
     "name": "stdout",
     "output_type": "stream",
     "text": [
      "[[[       nan]\n",
      "  [1.41003718]]\n",
      "\n",
      " [[       nan]\n",
      "  [2.6543906 ]]]\n"
     ]
    }
   ],
   "source": [
    "tr_y = np.full((ns, 2, 1), np.nan)\n",
    "tr_y[:, 1, :] = data.iloc[1:]\n",
    "print(tr_y[:2])"
   ]
  },
  {
   "cell_type": "markdown",
   "metadata": {
    "slideshow": {
     "slide_type": "subslide"
    }
   },
   "source": [
    "## Training\n",
    "\n",
    "**Then we can perform training as usual**"
   ]
  },
  {
   "cell_type": "code",
   "execution_count": 7,
   "metadata": {},
   "outputs": [
    {
     "data": {
      "image/png": "[encoded data removed]",
      "text/plain": [
       "<Figure size 1008x288 with 1 Axes>"
      ]
     },
     "metadata": {
      "needs_background": "light"
     },
     "output_type": "display_data"
    },
    {
     "name": "stdout",
     "output_type": "stream",
     "text": [
      "Model loss: 0.0000 (training)\n",
      "CPU times: user 1.19 s, sys: 219 ms, total: 1.41 s\n",
      "Wall time: 957 ms\n"
     ]
    }
   ],
   "source": [
    "%%time\n",
    "dRC = util.RCNablaLayer(tau_ref=10, vs_ref=10)\n",
    "euler = util.ODEEulerModel(dRC)\n",
    "history = util.train_ml_model(euler, [tr_y0, tr_T], tr_y, validation_split=0.0, epochs=400)\n",
    "util.plot_training_history(history, figsize=figsize)"
   ]
  },
  {
   "cell_type": "markdown",
   "metadata": {
    "slideshow": {
     "slide_type": "subslide"
    }
   },
   "source": [
    "## Training\n",
    "\n",
    "**The results are the same as before (including estimation problems)**"
   ]
  },
  {
   "cell_type": "code",
   "execution_count": 8,
   "metadata": {},
   "outputs": [
    {
     "name": "stdout",
     "output_type": "stream",
     "text": [
      "tau: 8.00 (real), 8.51 (estimated)\n",
      "Vs: 12.00 (real), 12.00 (estimated)\n"
     ]
    }
   ],
   "source": [
    "print(f'tau: {tau:.2f} (real), {dRC.get_tau().numpy()[0]:.2f} (estimated)')\n",
    "print(f'Vs: {Vs:.2f} (real), {dRC.get_vs().numpy()[0]:.2f} (estimated)')"
   ]
  },
  {
   "cell_type": "markdown",
   "metadata": {},
   "source": [
    "**...But there are significant computational advantages**\n",
    "\n",
    "Since we are using a _shallow_ compute graph rather than a deep one...\n",
    "\n",
    "* The training time is much lower\n",
    "* Potential vanishing/exploding gradient problems are absent\n",
    "\n",
    "Since we now have _multiple examples_...\n",
    "\n",
    "* We can benefit from stochastic gradient descent\n",
    "* We can use a validation set"
   ]
  },
  {
   "cell_type": "markdown",
   "metadata": {
    "slideshow": {
     "slide_type": "subslide"
    }
   },
   "source": [
    "## Training\n",
    "\n",
    "**Just keep in mind that using a validation set will slow down the process**"
   ]
  },
  {
   "cell_type": "code",
   "execution_count": 9,
   "metadata": {},
   "outputs": [
    {
     "data": {
      "image/png": "[encoded data removed]",
      "text/plain": [
       "<Figure size 1008x288 with 1 Axes>"
      ]
     },
     "metadata": {
      "needs_background": "light"
     },
     "output_type": "display_data"
    },
    {
     "name": "stdout",
     "output_type": "stream",
     "text": [
      "Model loss: 0.0000 (training) 0.0000 (validation)\n",
      "CPU times: user 7.22 s, sys: 843 ms, total: 8.06 s\n",
      "Wall time: 6.4 s\n"
     ]
    }
   ],
   "source": [
    "%%time\n",
    "dRC = util.RCNablaLayer(tau_ref=10, vs_ref=10)\n",
    "euler = util.ODEEulerModel(dRC)\n",
    "history = util.train_ml_model(euler, [tr_y0, tr_T], tr_y, validation_split=0.2, epochs=400, patience=10)\n",
    "util.plot_training_history(history, figsize=figsize)"
   ]
  },
  {
   "cell_type": "markdown",
   "metadata": {
    "slideshow": {
     "slide_type": "subslide"
    }
   },
   "source": [
    "## Accuracy Issues\n",
    "\n",
    "**We are now ready to tackle our estimation issues**\n",
    "\n",
    "* We know we have trouble estimating the $\\tau$ parameter\n",
    "* Intuitively, that should translate in trouble estimating the dynamic behavior\n",
    "\n",
    "**Let's check whether this is true**\n",
    "\n",
    "* We prepare data structures to replicate our original run"
   ]
  },
  {
   "cell_type": "code",
   "execution_count": 10,
   "metadata": {},
   "outputs": [
    {
     "name": "stdout",
     "output_type": "stream",
     "text": [
      "y0: [[0.]]\n",
      "T: [[ 0.  1.  2.  3.  4.  5.  6.  7.  8.  9. 10. 11. 12. 13. 14. 15. 16. 17.\n",
      "  18. 19. 20. 21. 22. 23. 24. 25. 26. 27. 28. 29. 30. 31. 32. 33. 34. 35.\n",
      "  36. 37. 38. 39. 40. 41. 42. 43. 44. 45. 46. 47. 48. 49. 50. 51. 52. 53.\n",
      "  54. 55. 56. 57. 58. 59. 60.]]\n"
     ]
    }
   ],
   "source": [
    "run_y0 = data.iloc[0].values.reshape(1, -1)\n",
    "run_T = np.array([data.index])\n",
    "print('y0:', run_y0)\n",
    "print('T:', run_T)"
   ]
  },
  {
   "cell_type": "markdown",
   "metadata": {
    "slideshow": {
     "slide_type": "subslide"
    }
   },
   "source": [
    "## Accuracy Issues\n",
    "\n",
    "**Then we can run Euler method directly using our model**\n",
    "\n",
    "As a side benefit, this will naturally use the estimate parameters"
   ]
  },
  {
   "cell_type": "code",
   "execution_count": 11,
   "metadata": {},
   "outputs": [],
   "source": [
    "run_y = euler.predict([run_y0, run_T])"
   ]
  },
  {
   "cell_type": "markdown",
   "metadata": {},
   "source": [
    "Next, let's build a dataset with the original data and the predictions:"
   ]
  },
  {
   "cell_type": "code",
   "execution_count": 12,
   "metadata": {},
   "outputs": [
    {
     "data": {
      "text/html": [
       "<div>\n",
       "<style scoped>\n",
       "    .dataframe tbody tr th:only-of-type {\n",
       "        vertical-align: middle;\n",
       "    }\n",
       "\n",
       "    .dataframe tbody tr th {\n",
       "        vertical-align: top;\n",
       "    }\n",
       "\n",
       "    .dataframe thead th {\n",
       "        text-align: right;\n",
       "    }\n",
       "</style>\n",
       "<table border=\"1\" class=\"dataframe\">\n",
       "  <thead>\n",
       "    <tr style=\"text-align: right;\">\n",
       "      <th></th>\n",
       "      <th>V</th>\n",
       "      <th>euler</th>\n",
       "    </tr>\n",
       "    <tr>\n",
       "      <th>time</th>\n",
       "      <th></th>\n",
       "      <th></th>\n",
       "    </tr>\n",
       "  </thead>\n",
       "  <tbody>\n",
       "    <tr>\n",
       "      <th>0.0</th>\n",
       "      <td>0.000000</td>\n",
       "      <td>0.000000</td>\n",
       "    </tr>\n",
       "    <tr>\n",
       "      <th>1.0</th>\n",
       "      <td>1.410037</td>\n",
       "      <td>1.410170</td>\n",
       "    </tr>\n",
       "    <tr>\n",
       "      <th>2.0</th>\n",
       "      <td>2.654391</td>\n",
       "      <td>2.654620</td>\n",
       "    </tr>\n",
       "    <tr>\n",
       "      <th>3.0</th>\n",
       "      <td>3.752529</td>\n",
       "      <td>3.752824</td>\n",
       "    </tr>\n",
       "    <tr>\n",
       "      <th>4.0</th>\n",
       "      <td>4.721632</td>\n",
       "      <td>4.721970</td>\n",
       "    </tr>\n",
       "  </tbody>\n",
       "</table>\n",
       "</div>"
      ],
      "text/plain": [
       "             V     euler\n",
       "time                    \n",
       "0.0   0.000000  0.000000\n",
       "1.0   1.410037  1.410170\n",
       "2.0   2.654391  2.654620\n",
       "3.0   3.752529  3.752824\n",
       "4.0   4.721632  4.721970"
      ]
     },
     "execution_count": 12,
     "metadata": {},
     "output_type": "execute_result"
    }
   ],
   "source": [
    "data_euler = data.copy()\n",
    "data_euler['euler'] = run_y[0]\n",
    "data_euler.head()"
   ]
  },
  {
   "cell_type": "markdown",
   "metadata": {
    "slideshow": {
     "slide_type": "subslide"
    }
   },
   "source": [
    "## Accuracy Issues\n",
    "\n",
    "**Finally, we can plot the two curves**"
   ]
  },
  {
   "cell_type": "code",
   "execution_count": 13,
   "metadata": {},
   "outputs": [
    {
     "data": {
      "image/png": "[encoded data removed]",
      "text/plain": [
       "<Figure size 1008x288 with 1 Axes>"
      ]
     },
     "metadata": {
      "needs_background": "light"
     },
     "output_type": "display_data"
    }
   ],
   "source": [
    "util.plot_df_cols(data_euler, figsize=figsize)"
   ]
  },
  {
   "cell_type": "markdown",
   "metadata": {},
   "source": [
    "We have a very good match!\n",
    "\n",
    "> **What is going on?**"
   ]
  },
  {
   "cell_type": "markdown",
   "metadata": {
    "slideshow": {
     "slide_type": "subslide"
    }
   },
   "source": [
    "## Accuracy Issues?\n",
    "\n",
    "**We formulated the training problem in terms of curve fitting**\n",
    "\n",
    "* I.e. we optimized $\\tau$ and $V_s$ so as to obtain a close fitting curve\n",
    "* ...Constructed using Euler method\n",
    "\n",
    "**The problem is that Euler method is _inaccurate_**\n",
    "\n",
    "* If using wrong parameters will lead to a better fitting curve\n",
    "* ...Our approach will not hesitate to do just that\n",
    "\n",
    "**Is this a problem?**\n",
    "\n",
    "If we just care about the curve, not at all\n",
    "\n",
    "* It can actually be an advantage, if properly exploited\n",
    "\n",
    "If we care about estimating parameters, then yes\n",
    "\n",
    "* ...But it also suggests an easy fix (using a more accurate integration method)"
   ]
  },
  {
   "cell_type": "markdown",
   "metadata": {
    "slideshow": {
     "slide_type": "subslide"
    }
   },
   "source": [
    "## Improving Parameter Estimation\n",
    "\n",
    "**For sake of simplicity, we will keep using Euler method**\n",
    "\n",
    "...And we will just increase the number of steps to improve its accuracy\n",
    "\n",
    "* First, we introduce _more evaluation points_ for each measurement pair"
   ]
  },
  {
   "cell_type": "code",
   "execution_count": 14,
   "metadata": {},
   "outputs": [
    {
     "name": "stdout",
     "output_type": "stream",
     "text": [
      "[[0.  0.1 0.2 0.3 0.4 0.5 0.6 0.7 0.8 0.9 1. ]\n",
      " [1.  1.1 1.2 1.3 1.4 1.5 1.6 1.7 1.8 1.9 2. ]]\n"
     ]
    }
   ],
   "source": [
    "nsteps = 11\n",
    "tr_T2 = np.vstack(np.linspace(data.index[:-1], data.index[1:], nsteps)).T\n",
    "print(tr_T2[:2])"
   ]
  },
  {
   "cell_type": "markdown",
   "metadata": {},
   "source": [
    "* Second, we update the target sequences to match the size"
   ]
  },
  {
   "cell_type": "code",
   "execution_count": 15,
   "metadata": {},
   "outputs": [
    {
     "name": "stdout",
     "output_type": "stream",
     "text": [
      "[[[nan],[nan],[nan],[nan],[nan],[nan],[nan],[nan],[nan],[nan],[1.41003718]]\n",
      "[[nan],[nan],[nan],[nan],[nan],[nan],[nan],[nan],[nan],[nan],[2.6543906]]]\n"
     ]
    }
   ],
   "source": [
    "tr_y2 = np.full((ns, nsteps, 1), np.nan)\n",
    "tr_y2[:, -1, :] = data.iloc[1:]\n",
    "print(str(tr_y2[:2]).replace('\\n', ', ').replace(' ', '').replace(',,', '\\n'))"
   ]
  },
  {
   "cell_type": "markdown",
   "metadata": {
    "slideshow": {
     "slide_type": "subslide"
    }
   },
   "source": [
    "## Improving Parameter Estimation\n",
    "\n",
    "**Then, we can train as usual**"
   ]
  },
  {
   "cell_type": "code",
   "execution_count": 16,
   "metadata": {},
   "outputs": [
    {
     "data": {
      "image/png": "[encoded data removed]",
      "text/plain": [
       "<Figure size 1008x288 with 1 Axes>"
      ]
     },
     "metadata": {
      "needs_background": "light"
     },
     "output_type": "display_data"
    },
    {
     "name": "stdout",
     "output_type": "stream",
     "text": [
      "Model loss: 0.0000 (training)\n",
      "CPU times: user 2.24 s, sys: 284 ms, total: 2.52 s\n",
      "Wall time: 1.85 s\n"
     ]
    }
   ],
   "source": [
    "%%time\n",
    "dRC2 = util.RCNablaLayer(tau_ref=10, vs_ref=10)\n",
    "euler2 = util.ODEEulerModel(dRC2)\n",
    "history = util.train_ml_model(euler2, [tr_y0, tr_T2], tr_y2, validation_split=0.0, epochs=400)\n",
    "util.plot_training_history(history, figsize=figsize)"
   ]
  },
  {
   "cell_type": "markdown",
   "metadata": {
    "slideshow": {
     "slide_type": "subslide"
    }
   },
   "source": [
    "## Improving Parameter Estimation\n",
    "\n",
    "**This approach leads to considerably better estimates**"
   ]
  },
  {
   "cell_type": "code",
   "execution_count": 17,
   "metadata": {},
   "outputs": [
    {
     "name": "stdout",
     "output_type": "stream",
     "text": [
      "tau: 8.00 (real), 8.05 (estimated)\n",
      "Vs: 12.00 (real), 12.00 (estimated)\n"
     ]
    }
   ],
   "source": [
    "print(f'tau: {tau:.2f} (real), {dRC2.get_tau().numpy()[0]:.2f} (estimated)')\n",
    "print(f'Vs: {Vs:.2f} (real), {dRC2.get_vs().numpy()[0]:.2f} (estimated)')"
   ]
  },
  {
   "cell_type": "markdown",
   "metadata": {},
   "source": [
    "* The results can be improved by using additional steps\n",
    "* ...Or by switching to a different integration method (e.g. RK4)\n",
    "\n",
    "**Overall, when using this appraoch...**\n",
    "\n",
    "...It's important to be aware that integration methods are _approximate_\n",
    "\n",
    "* This can easily lead to incorrectly estimated parameters\n",
    "* Which may or may not be a problem, depending on your priorities"
   ]
  }
 ],
 "metadata": {
  "celltoolbar": "Slideshow",
  "kernelspec": {
   "display_name": "Python 3 (ipykernel)",
   "language": "python",
   "name": "python3"
  },
  "language_info": {
   "codemirror_mode": {
    "name": "ipython",
    "version": 3
   },
   "file_extension": ".py",
   "mimetype": "text/x-python",
   "name": "python",
   "nbconvert_exporter": "python",
   "pygments_lexer": "ipython3",
   "version": "3.8.10"
  },
  "rise": {
   "center": false,
   "enable_chalkboard": true,
   "transition": "fade"
  }
 },
 "nbformat": 4,
 "nbformat_minor": 4
}
